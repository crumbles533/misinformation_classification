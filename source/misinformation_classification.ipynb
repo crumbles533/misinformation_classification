{
 "cells": [
  {
   "cell_type": "code",
   "execution_count": 1,
   "id": "b6ed0fc9",
   "metadata": {},
   "outputs": [],
   "source": [
    "import numpy as np\n",
    "import pandas as pd\n",
    "import re\n",
    "import sklearn\n",
    "from sklearn import svm\n",
    "from sklearn.naive_bayes import MultinomialNB\n",
    "from sklearn.model_selection import train_test_split\n",
    "from sklearn.linear_model import LogisticRegression\n",
    "import nltk\n",
    "from sklearn.metrics import accuracy_score\n",
    "import joblib\n",
    "\n",
    "import tensorflow\n",
    "from tensorflow.keras.models import Sequential\n",
    "from tensorflow.keras.preprocessing.text import one_hot\n",
    "from tensorflow.keras.layers import LSTM\n",
    "from tensorflow.keras.layers import Bidirectional\n",
    "from tensorflow.keras.layers import Embedding\n",
    "from tensorflow.keras.layers import Dropout\n",
    "from tensorflow.keras.layers import Dense"
   ]
  },
  {
   "cell_type": "code",
   "execution_count": 2,
   "id": "bdd58e89",
   "metadata": {},
   "outputs": [
    {
     "name": "stdout",
     "output_type": "stream",
     "text": [
      "1.19.5\n"
     ]
    }
   ],
   "source": [
    "df=pd.read_csv('train.csv')\n",
    "df['label']\n",
    "tensorflow.__version__\n",
    "print(np.__version__) "
   ]
  },
  {
   "cell_type": "code",
   "execution_count": 3,
   "id": "4f9edb4a",
   "metadata": {},
   "outputs": [
    {
     "data": {
      "text/plain": [
       "(20800, 7)"
      ]
     },
     "execution_count": 3,
     "metadata": {},
     "output_type": "execute_result"
    }
   ],
   "source": [
    "df.head()\n",
    "df.shape"
   ]
  },
  {
   "cell_type": "code",
   "execution_count": 4,
   "id": "dfde6b2a",
   "metadata": {},
   "outputs": [
    {
     "data": {
      "text/plain": [
       "(20716,)"
      ]
     },
     "execution_count": 4,
     "metadata": {},
     "output_type": "execute_result"
    }
   ],
   "source": [
    "df.dropna()\n",
    "df['label_numeric'] = pd.to_numeric(df['label'], errors='coerce')\n",
    "#print(df['label_numeric'])\n",
    "df_cleaned = df.dropna(subset=['label_numeric'])\n",
    "independentVar=df_cleaned.drop(['label','label_numeric'],axis=1)\n",
    "dependentVar=df_cleaned['label_numeric']\n",
    "independentVar.shape\n",
    "dependentVar.shape\n",
    "\n"
   ]
  },
  {
   "cell_type": "code",
   "execution_count": 5,
   "id": "2913a144",
   "metadata": {},
   "outputs": [
    {
     "data": {
      "text/plain": [
       "(20716, 6)"
      ]
     },
     "execution_count": 5,
     "metadata": {},
     "output_type": "execute_result"
    }
   ],
   "source": [
    "copy1=independentVar.copy()\n",
    "copy1.head()\n",
    "copy1.shape\n",
    " "
   ]
  },
  {
   "cell_type": "code",
   "execution_count": 6,
   "id": "3d75575c",
   "metadata": {},
   "outputs": [],
   "source": [
    "from nltk.corpus import stopwords\n",
    "vocSize=5000"
   ]
  },
  {
   "cell_type": "code",
   "execution_count": 7,
   "id": "4f347994",
   "metadata": {},
   "outputs": [],
   "source": [
    "from nltk.stem.porter import PorterStemmer\n",
    "PS=PorterStemmer()\n"
   ]
  },
  {
   "cell_type": "code",
   "execution_count": 8,
   "id": "06f7720e",
   "metadata": {},
   "outputs": [
    {
     "name": "stderr",
     "output_type": "stream",
     "text": [
      "[nltk_data] Downloading package stopwords to\n",
      "[nltk_data]     C:\\Users\\dietc\\AppData\\Roaming\\nltk_data...\n",
      "[nltk_data]   Package stopwords is already up-to-date!\n",
      "[nltk_data] Downloading package omw-1.4 to\n",
      "[nltk_data]     C:\\Users\\dietc\\AppData\\Roaming\\nltk_data...\n",
      "[nltk_data]   Package omw-1.4 is already up-to-date!\n",
      "[nltk_data] Downloading package punkt to\n",
      "[nltk_data]     C:\\Users\\dietc\\AppData\\Roaming\\nltk_data...\n",
      "[nltk_data]   Package punkt is already up-to-date!\n",
      "[nltk_data] Downloading package wordnet to\n",
      "[nltk_data]     C:\\Users\\dietc\\AppData\\Roaming\\nltk_data...\n",
      "[nltk_data]   Package wordnet is already up-to-date!\n"
     ]
    }
   ],
   "source": [
    "nltk.download('stopwords')\n",
    "#type(stopwords.words('english'))\n",
    "nltk.download('omw-1.4')\n",
    "nltk.download('punkt')\n",
    "nltk.download('wordnet')\n",
    "from nltk.stem import WordNetLemmatizer\n",
    "lemmatizer = WordNetLemmatizer()\n"
   ]
  },
  {
   "cell_type": "code",
   "execution_count": 9,
   "id": "6e030ca6",
   "metadata": {},
   "outputs": [
    {
     "data": {
      "text/plain": [
       "\"\\nfrom nltk.sentiment.vader import SentimentIntensityAnalyzer\\n\\n# Download required resources\\nnltk.download('vader_lexicon')\\nanalyzer = SentimentIntensityAnalyzer()\\n\""
      ]
     },
     "execution_count": 9,
     "metadata": {},
     "output_type": "execute_result"
    }
   ],
   "source": [
    "'''\n",
    "from nltk.sentiment.vader import SentimentIntensityAnalyzer\n",
    "\n",
    "# Download required resources\n",
    "nltk.download('vader_lexicon')\n",
    "analyzer = SentimentIntensityAnalyzer()\n",
    "'''"
   ]
  },
  {
   "cell_type": "code",
   "execution_count": 10,
   "id": "b9f51d6a-d0ff-4e00-91ed-6df5f1cc5f1d",
   "metadata": {},
   "outputs": [],
   "source": [
    "alpha_re=re.compile('[^a-zA-Z]')\n",
    "stop_words = set(stopwords.words('english')) - {'is', 'in','not','aint','isnt'}\n",
    "from tqdm import tqdm\n"
   ]
  },
  {
   "cell_type": "code",
   "execution_count": 11,
   "id": "d99555ae-4ef4-4521-bd85-36ac6fe68797",
   "metadata": {},
   "outputs": [],
   "source": [
    "def preprocess(x):\n",
    "        \n",
    "    txt= alpha_re.sub(' ',str(x))\n",
    "    txt = txt.lower() #lowercase the text\n",
    "    txt = txt.split()\n",
    "    \n",
    "    #txt = [analyzer.polarity_scores(j) for j in txt if not j in stopwords.words('english')]  #list comprehension and stemming \n",
    "    txt = [lemmatizer.lemmatize(j) for j in txt if not j in stop_words]\n",
    "    txt= ' '.join(txt)   #string\n",
    "    return txt\n",
    "    \n",
    "def preprocess_zero(row):\n",
    "    tqdm.pandas()        \n",
    "    row['clean_text']= row['text'].progress_apply(preprocess)\n",
    "    return row['clean_text']\n",
    "\n",
    "    "
   ]
  },
  {
   "cell_type": "code",
   "execution_count": 12,
   "id": "bdeab4c0-691e-41f4-bbfb-2a970c786755",
   "metadata": {},
   "outputs": [],
   "source": [
    "def preprocess_output(fact):\n",
    "    return [preprocess(fact)]"
   ]
  },
  {
   "cell_type": "code",
   "execution_count": 13,
   "id": "314b0f64",
   "metadata": {},
   "outputs": [
    {
     "name": "stderr",
     "output_type": "stream",
     "text": [
      "100%|███████████████████████████████████████████████████████| 20716/20716 [00:34<00:00, 597.67it/s]\n"
     ]
    }
   ],
   "source": [
    "corpus=preprocess_zero(copy1)"
   ]
  },
  {
   "cell_type": "code",
   "execution_count": 14,
   "id": "960915bc-2209-4328-ab31-1f658780ab9e",
   "metadata": {},
   "outputs": [],
   "source": [
    "#corpus=corpus.tolist()"
   ]
  },
  {
   "cell_type": "code",
   "execution_count": 15,
   "id": "02b5ddf6",
   "metadata": {
    "scrolled": true
   },
   "outputs": [
    {
     "data": {
      "text/plain": [
       "20716"
      ]
     },
     "execution_count": 15,
     "metadata": {},
     "output_type": "execute_result"
    }
   ],
   "source": [
    "oneHot=[one_hot(x,vocSize) for x in corpus]\n",
    "len(corpus)"
   ]
  },
  {
   "cell_type": "code",
   "execution_count": 17,
   "id": "74b69b9d",
   "metadata": {},
   "outputs": [
    {
     "name": "stdout",
     "output_type": "stream",
     "text": [
      "[[3716 1532 4393 ... 3953 1244 2567]\n",
      " [2433  240 2760 ... 4118  888 2530]\n",
      " [1677 3854  809 ... 1804 3268 4055]\n",
      " ...\n",
      " [3893 1778 3889 ... 3914  666 2841]\n",
      " [   0    0    0 ... 4171  885 2426]\n",
      " [2867 3321 2619 ... 3983 4472 1439]]\n"
     ]
    }
   ],
   "source": [
    "length=200\n",
    "embeddedData=tensorflow.keras.preprocessing.sequence.pad_sequences(oneHot,padding='pre',maxlen=length)\n",
    "print(embeddedData)"
   ]
  },
  {
   "cell_type": "code",
   "execution_count": 18,
   "id": "bf569c74",
   "metadata": {},
   "outputs": [],
   "source": [
    "embeddingFeatures=400\n",
    "model=Sequential()\n",
    "model.add(Embedding(vocSize,embeddingFeatures,input_length=length))\n",
    "model.add(Dropout(0.3))\n",
    "model.add(LSTM(100)) #Adding 100 lstm neurons in the layer\n",
    "model.add(Dropout(0.3))\n",
    "model.add(Dense(1,activation='sigmoid'))\n"
   ]
  },
  {
   "cell_type": "code",
   "execution_count": 19,
   "id": "d59eeedd",
   "metadata": {},
   "outputs": [
    {
     "name": "stdout",
     "output_type": "stream",
     "text": [
      "Model: \"sequential\"\n",
      "_________________________________________________________________\n",
      "Layer (type)                 Output Shape              Param #   \n",
      "=================================================================\n",
      "embedding (Embedding)        (None, 200, 400)          2000000   \n",
      "_________________________________________________________________\n",
      "dropout (Dropout)            (None, 200, 400)          0         \n",
      "_________________________________________________________________\n",
      "lstm (LSTM)                  (None, 100)               200400    \n",
      "_________________________________________________________________\n",
      "dropout_1 (Dropout)          (None, 100)               0         \n",
      "_________________________________________________________________\n",
      "dense (Dense)                (None, 1)                 101       \n",
      "=================================================================\n",
      "Total params: 2,200,501\n",
      "Trainable params: 2,200,501\n",
      "Non-trainable params: 0\n",
      "_________________________________________________________________\n",
      "None\n"
     ]
    }
   ],
   "source": [
    "model.compile(loss='binary_crossentropy',optimizer='adam',metrics=['accuracy'])\n",
    "print(model.summary())"
   ]
  },
  {
   "cell_type": "code",
   "execution_count": 20,
   "id": "917eb459",
   "metadata": {},
   "outputs": [],
   "source": [
    "dataArray=np.array(embeddedData) \n",
    "labelArray=np.asarray(dependentVar).astype(np.float32)\n"
   ]
  },
  {
   "cell_type": "code",
   "execution_count": 21,
   "id": "97f89058",
   "metadata": {},
   "outputs": [
    {
     "data": {
      "text/plain": [
       "(6215, 200)"
      ]
     },
     "execution_count": 21,
     "metadata": {},
     "output_type": "execute_result"
    }
   ],
   "source": [
    "#fit the vectorized data into the lstm model created\n",
    "dataTrain, dataTest, labelTrain, labelTest = train_test_split(dataArray, labelArray, test_size=0.30,random_state=42)\n",
    "dataTest.shape"
   ]
  },
  {
   "cell_type": "code",
   "execution_count": 22,
   "id": "d052a309",
   "metadata": {},
   "outputs": [
    {
     "name": "stdout",
     "output_type": "stream",
     "text": [
      "Epoch 1/5\n",
      "227/227 [==============================] - 58s 224ms/step - loss: 0.3403 - accuracy: 0.8500 - val_loss: 0.2067 - val_accuracy: 0.9210\n",
      "Epoch 2/5\n",
      "227/227 [==============================] - 50s 222ms/step - loss: 0.1486 - accuracy: 0.9457 - val_loss: 0.1989 - val_accuracy: 0.9228\n",
      "Epoch 3/5\n",
      "227/227 [==============================] - 51s 223ms/step - loss: 0.0885 - accuracy: 0.9696 - val_loss: 0.2141 - val_accuracy: 0.9162\n",
      "Epoch 4/5\n",
      "227/227 [==============================] - 51s 225ms/step - loss: 0.0619 - accuracy: 0.9797 - val_loss: 0.2831 - val_accuracy: 0.9212\n",
      "Epoch 5/5\n",
      "227/227 [==============================] - 51s 225ms/step - loss: 0.0612 - accuracy: 0.9789 - val_loss: 0.3045 - val_accuracy: 0.9199\n"
     ]
    },
    {
     "data": {
      "text/plain": [
       "<tensorflow.python.keras.callbacks.History at 0x284928804c0>"
      ]
     },
     "execution_count": 22,
     "metadata": {},
     "output_type": "execute_result"
    }
   ],
   "source": [
    "# epoch varied\n",
    "model.fit(dataTrain,labelTrain,validation_data=(dataTest,labelTest),epochs=5,batch_size=64)"
   ]
  },
  {
   "cell_type": "code",
   "execution_count": 23,
   "id": "400e2425",
   "metadata": {},
   "outputs": [
    {
     "data": {
      "text/plain": [
       "0.9198712791633146"
      ]
     },
     "execution_count": 23,
     "metadata": {},
     "output_type": "execute_result"
    }
   ],
   "source": [
    "prediction=(model.predict(dataTest)>0.5).astype(\"int32\")\n",
    "#LSTM accuracy\n",
    "accuracy_score(prediction,labelTest)"
   ]
  },
  {
   "cell_type": "code",
   "execution_count": 24,
   "id": "d2e32b56",
   "metadata": {},
   "outputs": [
    {
     "data": {
      "text/plain": [
       "0.6288012872083668"
      ]
     },
     "execution_count": 24,
     "metadata": {},
     "output_type": "execute_result"
    }
   ],
   "source": [
    "#Naive Bayes one hot\n",
    "\n",
    "NB = MultinomialNB()\n",
    "NB.fit(dataTrain,labelTrain)\n",
    "predictionNB = NB.predict(dataTest)\n",
    "accuracy_score(labelTest,predictionNB)"
   ]
  },
  {
   "cell_type": "code",
   "execution_count": 25,
   "id": "8d3a4c2e",
   "metadata": {},
   "outputs": [
    {
     "data": {
      "text/plain": [
       "0.619147224456959"
      ]
     },
     "execution_count": 25,
     "metadata": {},
     "output_type": "execute_result"
    }
   ],
   "source": [
    "#LR ONEHOT\n",
    "LR= LogisticRegression(solver='lbfgs',max_iter=700)\n",
    "LR.fit(dataTrain,labelTrain)\n",
    "predictionLR = LR.predict(dataTest)\n",
    "accuracy_score(labelTest,predictionLR)"
   ]
  },
  {
   "cell_type": "code",
   "execution_count": 26,
   "id": "a960b2e3",
   "metadata": {},
   "outputs": [],
   "source": [
    "xTrain, xTest, yTrain, yTest = train_test_split(corpus, dependentVar, test_size=0.3,random_state=42)"
   ]
  },
  {
   "cell_type": "code",
   "execution_count": 27,
   "id": "d3a622ba",
   "metadata": {},
   "outputs": [],
   "source": [
    "#compare TDIDF\n",
    "from sklearn.feature_extraction.text import TfidfVectorizer\n",
    "vectorization = TfidfVectorizer(max_features=5000) #ngram_range=(1, 3)\n",
    "tfidTrain = vectorization.fit_transform(xTrain)\n",
    "tfidTest = vectorization.transform(xTest)"
   ]
  },
  {
   "cell_type": "code",
   "execution_count": 28,
   "id": "3a6ab758-f763-40db-bf7f-d4de03347470",
   "metadata": {},
   "outputs": [],
   "source": [
    "def load_glove(glove_file):\n",
    "    with open(glove_file, 'r', encoding='utf-8') as f:\n",
    "        return {line.split()[0]: np.array(line.split()[1:], dtype='float32') for line in f}\n",
    "\n",
    "def sentence_embedding(sentence, embeddings, dim=100):\n",
    "    words = sentence.split()\n",
    "    vectors = [embeddings[word] for word in words if word in embeddings]\n",
    "    return np.mean(vectors, axis=0) if vectors else np.zeros(dim)\n",
    "\n",
    "# Load GloVe and prepare embeddings\n",
    "glove_file = \"glove.6B.100d.txt\"  \n",
    "embeddings = load_glove(glove_file)\n",
    "\n",
    "# Convert train and test sets to embeddings\n",
    "X_train_embeddings = np.array([sentence_embedding(sent, embeddings) for sent in xTrain])\n",
    "X_test_embeddings = np.array([sentence_embedding(sent, embeddings) for sent in xTest])\n"
   ]
  },
  {
   "cell_type": "code",
   "execution_count": 29,
   "id": "b9b3b2d6",
   "metadata": {},
   "outputs": [
    {
     "data": {
      "text/plain": [
       "0.8775543041029766"
      ]
     },
     "execution_count": 29,
     "metadata": {},
     "output_type": "execute_result"
    }
   ],
   "source": [
    "#NB TFIDF\n",
    "NB2 = MultinomialNB()\n",
    "NB2.fit(tfidTrain,yTrain)\n",
    "predictionNB2 = NB2.predict(tfidTest)\n",
    "accuracy_score(yTest,predictionNB2)\n"
   ]
  },
  {
   "cell_type": "code",
   "execution_count": 30,
   "id": "a6d3a4b5",
   "metadata": {},
   "outputs": [
    {
     "data": {
      "text/plain": [
       "0.9316170555108608"
      ]
     },
     "execution_count": 30,
     "metadata": {},
     "output_type": "execute_result"
    }
   ],
   "source": [
    "#SVM TFIDF\n",
    "SVM2 = svm.SVC(C=0.1, kernel='linear', gamma='auto',probability=True,class_weight='balanced')\n",
    "SVM2.fit(tfidTrain,yTrain)\n",
    "predictions_SVM2 = SVM2.predict(tfidTest)\n",
    "accuracy_score(yTest,predictions_SVM2)\n"
   ]
  },
  {
   "cell_type": "code",
   "execution_count": 31,
   "id": "5646413f-da72-4014-ab9c-afd550c72e9c",
   "metadata": {},
   "outputs": [
    {
     "data": {
      "text/plain": [
       "['svm_light.pkl']"
      ]
     },
     "execution_count": 31,
     "metadata": {},
     "output_type": "execute_result"
    }
   ],
   "source": [
    "#SVM light TFIDF\n",
    "SVM2_light = svm.LinearSVC(C=0.1,class_weight='balanced')\n",
    "SVM2_light.fit(tfidTrain,yTrain)\n",
    "predictions_SVM2_light = SVM2_light.predict(tfidTest)\n",
    "accuracy_score(yTest,predictions_SVM2_light)\n",
    "joblib.dump(SVM2_light, 'svm_light.pkl')\n"
   ]
  },
  {
   "cell_type": "code",
   "execution_count": 32,
   "id": "3a04e71a-9d1d-47fe-8bf5-0fa93744e78c",
   "metadata": {},
   "outputs": [
    {
     "data": {
      "text/plain": [
       "['svm_light_glove.pkl']"
      ]
     },
     "execution_count": 32,
     "metadata": {},
     "output_type": "execute_result"
    }
   ],
   "source": [
    "#SVM light glove TFIDF\n",
    "SVM2_light_glove = svm.LinearSVC(C=0.1,class_weight='balanced')\n",
    "SVM2_light_glove.fit(X_train_embeddings,yTrain)\n",
    "predictions_SVM2_light_glove = SVM2_light_glove.predict(X_test_embeddings)\n",
    "accuracy_score(yTest,predictions_SVM2_light_glove)\n",
    "joblib.dump(SVM2_light_glove, 'svm_light_glove.pkl')"
   ]
  },
  {
   "cell_type": "code",
   "execution_count": 33,
   "id": "4769052b-08c7-4bce-b30d-112409a3ec62",
   "metadata": {},
   "outputs": [
    {
     "name": "stdout",
     "output_type": "stream",
     "text": [
      "0.0    10387\n",
      "1.0    10329\n",
      "Name: label_numeric, dtype: int64\n"
     ]
    }
   ],
   "source": [
    "print(dependentVar.value_counts())  \n"
   ]
  },
  {
   "cell_type": "code",
   "execution_count": 34,
   "id": "7c5c5ae9",
   "metadata": {},
   "outputs": [
    {
     "data": {
      "text/plain": [
       "0.9407884151246984"
      ]
     },
     "execution_count": 34,
     "metadata": {},
     "output_type": "execute_result"
    }
   ],
   "source": [
    "#LR TFIDF\n",
    "LR2= LogisticRegression().fit(tfidTrain,yTrain)\n",
    "\n",
    "predictionLR2 = LR2.predict(tfidTest)\n",
    "accuracy_score(yTest,predictionLR2)"
   ]
  },
  {
   "cell_type": "code",
   "execution_count": 35,
   "id": "dd4ee88c",
   "metadata": {},
   "outputs": [
    {
     "data": {
      "text/plain": [
       "0.9411102172164119"
      ]
     },
     "execution_count": 35,
     "metadata": {},
     "output_type": "execute_result"
    }
   ],
   "source": [
    "#Random forest tf idf\n",
    "\n",
    "from sklearn.ensemble import RandomForestClassifier\n",
    "RFC=RandomForestClassifier(random_state=0)\n",
    "RFC.fit(tfidTrain,yTrain)\n",
    "predictionRFC=RFC.predict(tfidTest)\n",
    "\n",
    "accuracy_score(yTest,predictionRFC)"
   ]
  },
  {
   "cell_type": "code",
   "execution_count": 36,
   "id": "04029db6",
   "metadata": {},
   "outputs": [
    {
     "data": {
      "text/plain": [
       "0.7012067578439259"
      ]
     },
     "execution_count": 36,
     "metadata": {},
     "output_type": "execute_result"
    }
   ],
   "source": [
    "#Random forest one hot\n",
    "\n",
    "from sklearn.ensemble import RandomForestClassifier\n",
    "RFC2=RandomForestClassifier(random_state=0)\n",
    "RFC2.fit(dataTrain,labelTrain)\n",
    "predictionRFC2=RFC2.predict(dataTest)\n",
    "\n",
    "accuracy_score(labelTest,predictionRFC2)"
   ]
  },
  {
   "cell_type": "code",
   "execution_count": 37,
   "id": "fc10ec92",
   "metadata": {},
   "outputs": [
    {
     "data": {
      "text/plain": [
       "0.8746580852775543"
      ]
     },
     "execution_count": 37,
     "metadata": {},
     "output_type": "execute_result"
    }
   ],
   "source": [
    "#ada boost tfidf\n",
    "from sklearn.ensemble import AdaBoostClassifier\n",
    "from sklearn.tree import DecisionTreeClassifier\n",
    "\n",
    "Ada = AdaBoostClassifier(DecisionTreeClassifier(max_depth=10),n_estimators=5)\n",
    "Ada.fit(tfidTrain, yTrain)\n",
    "predictionAda = Ada.predict(tfidTest)\n",
    "accuracy_score(yTest,predictionAda)"
   ]
  },
  {
   "cell_type": "code",
   "execution_count": 38,
   "id": "0cb80e26",
   "metadata": {},
   "outputs": [
    {
     "data": {
      "text/plain": [
       "0.9491552695092518"
      ]
     },
     "execution_count": 38,
     "metadata": {},
     "output_type": "execute_result"
    }
   ],
   "source": [
    "Ada1 = AdaBoostClassifier(RandomForestClassifier(max_depth=10),n_estimators=5)\n",
    "Ada1.fit(tfidTrain, yTrain)\n",
    "predictionAda1 = Ada1.predict(tfidTest)\n",
    "accuracy_score(yTest,predictionAda1)"
   ]
  },
  {
   "cell_type": "code",
   "execution_count": 40,
   "id": "b537835d",
   "metadata": {},
   "outputs": [
    {
     "name": "stdout",
     "output_type": "stream",
     "text": [
      "['paris france chose idealistic traditional candidate in sunday primary represent socialist party in presidential election spring candidate beno hamon ran slogan would make france heart beat bested manuel valls former prime minister whose campaign promoted policy strong background mr hamon appeared wide margin incomplete return showing estimated percent vote mr valls percent tonight left hold head high is looking future mr hamon said addressing supporter country need left modern innovative left said mr hamon victory clearest sign yet voter left want break policy president fran ois hollande in december announced would not seek however mr hamon strong showing is unlikely change widespread assessment candidate little chance making second round voting in general election first round general election is set april runoff may socialist party is deeply divided one measure lack popular enthusiasm relatively low number people voting two million people voted in second round primary sunday in contrast million in second round last presidential primary left in however much conventional wisdom election go thrown question past week leading candidate fran ois fillon represents main party republican accused paying wife large sum money work parliamentary aide nepotism is legal in french political system is not clear actually work prosecutor specialize in financial malfeasance reviewing case france electoral system allows multiple candidate run president in first round voting top two go second round mr hamon is entering race is already crowded left candidate include lenchon far left emmanuel macron independent served economy minister in mr hollande government embrace policy unless decides withdraw mr fillon mainstream right candidate also run extreme right candidate marine le pen two expected go runoff mr hamon victory attributed least in part image idealist traditional leftist candidate appeal union voter well environmentally concerned socially liberal young people unlike mr valls also clearly distanced mr hollande unpopular policy especially economic one thomas kekenbosch student one leader group youth beno hamon said mr hamon embodied new hope left perspective something build mr kekenbosch said mr hollande disappointed many young people party abandoned ideal support worker many voter believe in according mr kekenbosch mr hollande government pressure european union meet budget restraint struggled pas labor code reform make market attractive foreign investor also encourage french business expand in france measure ultimately passed week strike watered generated little concrete progress in improving france roughly percent unemployment rate nearly percent youth joblessness rate mr hamon strongly endorses stimulus approach improving economy promised phase in universal income would especially help young people looking work would also supplement livelihood french worker end goal would everyone receive euro per month someone trust u mr kekenbosch said say give enough pay study scholarship spare working mcdonald provisional contract year mr hamon advocate phasing diesel fuel encouraging driver replace vehicle use petroleum product electrical one leftist pedigree began early father worked arsenal in brest city in far west brittany mother worked secretary early member movement young socialist continued work closely political life also worked martine aubry mayor lille former socialist party leader']\n",
      "The text is classified as 'False'.\n"
     ]
    }
   ],
   "source": [
    "#loaded_model = joblib.load('svm.pkl')\n",
    "loaded_model = joblib.load('svm_light.pkl')\n",
    "\n",
    "statement1=\"PARIS  —   France chose an idealistic, traditional   candidate in Sunday’s primary to represent the Socialist and   parties in the presidential election this spring. The candidate, Benoît Hamon, 49, who ran on the slogan that he would “make France’s heart beat,” bested Manuel Valls, the former prime minister, whose campaign has promoted more   policies and who has a strong    background. Mr. Hamon appeared to have won by a wide margin, with incomplete returns showing him with an estimated 58 percent of the vote to Mr. Valls’s 41 percent. “Tonight the left holds its head up high again it is looking to the future,” Mr. Hamon said, addressing his supporters. “Our country needs the left, but a modern, innovative left,” he said. Mr. Hamon’s victory was the clearest sign yet that voters on the left want a break with the policies of President François Hollande, who in December announced that he would not seek  . However, Mr. Hamon’s strong showing is unlikely to change widespread assessments that   candidates have little chance of making it into the second round of voting in the general election. The first round of the general election is set for April 23 and the runoff for May 7. The Socialist Party is deeply divided, and one measure of its lack of popular enthusiasm was the relatively low number of people voting. About two million people voted in the second round of the primary on Sunday, in contrast with about 2. 9 million in the second round of the last presidential primary on the left, in 2011. However, much of the conventional wisdom over how the elections will go has been thrown into question over the past week, because the leading candidate, François Fillon, who represents the main   party, the Republicans, was accused of paying his wife large sums of money to work as his parliamentary aide. While nepotism is legal in the French political system, it is not clear that she actually did any work. Prosecutors who specialize in financial malfeasance are reviewing the case. France’s electoral system allows multiple candidates to run for president in the first round of voting, but only the top two   go on to a second round. Mr. Hamon is entering a race that is already crowded on the left, with candidates who include   Mélenchon on the far left, and Emmanuel Macron, an independent who served as economy minister in Mr. Hollande’s government and who embraces more   policies. Unless he decides to withdraw, Mr. Fillon, the mainstream right candidate, will also run, as will the extreme right candidate Marine Le Pen. The two have been expected to go to the runoff. Mr. Hamon’s victory can be attributed at least in part to his image as an idealist and traditional leftist candidate who appeals to union voters as well as more environmentally concerned and socially liberal young people. Unlike Mr. Valls, he also clearly distanced himself from some of Mr. Hollande’s more unpopular policies, especially the economic ones. Thomas Kekenbosch, 22, a student and one of the leaders of the group the Youth With Benoît Hamon, said Mr. Hamon embodied a new hope for those on the left. “We have a perspective we have something to do, to build,” Mr. Kekenbosch said. Mr. Hollande had disappointed many young people because under him the party abandoned ideals, such as support for workers, that many   voters believe in, according to Mr. Kekenbosch. Mr. Hollande’s government, under pressure from the European Union to meet budget restraints, struggled to pass labor code reforms to make the market more attractive to foreign investors and also to encourage French businesses to expand in France. The measures ultimately passed after weeks of strikes, but they were watered down and generated little concrete progress in improving France’s roughly 10 percent unemployment rate and its nearly 25 percent youth joblessness rate. Mr. Hamon strongly endorses a stimulus approach to improving the economy and has promised to phase in a universal income, which would especially help young people looking for work, but would also supplement the livelihood of   French workers. The end goal would be to have everyone receive 750 euros per month (about $840). “We have someone that trusts us,” Mr. Kekenbosch said, “who says: ‘I give you enough to pay for your studies. You can have a scholarship which spares you from working at McDonald’s on provisional contracts for 4 years. ” Mr. Hamon advocates phasing out diesel fuel and encouraging drivers to replace vehicles that use petroleum products with electrical ones. His leftist pedigree began early. His father worked at an arsenal in Brest, a city in the far west of Brittany, and his mother worked off and on as a secretary. He was an early member of the Movement of Young Socialists, and he has continued to work closely with them through his political life. He also worked for Martine Aubry, now the mayor of Lille and a former Socialist Party leader.\"\n",
    "statement2=\"obama was president\"\n",
    "preprocessed_text = preprocess_output(statement1)\n",
    "print(preprocessed_text)\n",
    "vector=vectorization.transform(preprocessed_text)\n",
    "\n",
    "'''\n",
    "probabilities = loaded_model.predict_proba(vector)  # Use predict_proba to get probabilities\n",
    "print(\"Probabilities for False (0) and True (1) classes:\", probabilities)\n",
    "# Get the probability of the 'True' class (class 1)\n",
    "prob_true_class = probabilities[:, 1]  # Probability for class 1 ('True')\n",
    "print(\"Probability of 'True' class:\", prob_true_class[0])\n",
    "'''\n",
    "\n",
    "output=loaded_model.predict(vector)\n",
    "if output[0]==1:\n",
    "    print(f\" {output[0]} The text is classified as 'True'.\")\n",
    "else:\n",
    "    print(\"The text is classified as 'False'.\")\n"
   ]
  },
  {
   "cell_type": "code",
   "execution_count": null,
   "id": "ea5b9142",
   "metadata": {},
   "outputs": [],
   "source": []
  },
  {
   "cell_type": "code",
   "execution_count": null,
   "id": "f7bacf83",
   "metadata": {},
   "outputs": [],
   "source": []
  },
  {
   "cell_type": "code",
   "execution_count": null,
   "id": "5063dfdc-9220-4dab-8897-0d3f0e60d8d1",
   "metadata": {},
   "outputs": [],
   "source": []
  },
  {
   "cell_type": "code",
   "execution_count": null,
   "id": "b31d619e-2f83-46a2-9be1-bce68e1cdb2f",
   "metadata": {},
   "outputs": [],
   "source": []
  },
  {
   "cell_type": "code",
   "execution_count": null,
   "id": "9309fa08-b2bd-4057-bdbe-6ab30e37ff82",
   "metadata": {},
   "outputs": [],
   "source": []
  }
 ],
 "metadata": {
  "kernelspec": {
   "display_name": "ml_env",
   "language": "python",
   "name": "fake_news"
  },
  "language_info": {
   "codemirror_mode": {
    "name": "ipython",
    "version": 3
   },
   "file_extension": ".py",
   "mimetype": "text/x-python",
   "name": "python",
   "nbconvert_exporter": "python",
   "pygments_lexer": "ipython3",
   "version": "3.9.2"
  },
  "varInspector": {
   "cols": {
    "lenName": 16,
    "lenType": 16,
    "lenVar": 40
   },
   "kernels_config": {
    "python": {
     "delete_cmd_postfix": "",
     "delete_cmd_prefix": "del ",
     "library": "var_list.py",
     "varRefreshCmd": "print(var_dic_list())"
    },
    "r": {
     "delete_cmd_postfix": ") ",
     "delete_cmd_prefix": "rm(",
     "library": "var_list.r",
     "varRefreshCmd": "cat(var_dic_list()) "
    }
   },
   "oldHeight": 122.844,
   "position": {
    "height": "144.844px",
    "left": "1496px",
    "right": "20px",
    "top": "118px",
    "width": "350px"
   },
   "types_to_exclude": [
    "module",
    "function",
    "builtin_function_or_method",
    "instance",
    "_Feature"
   ],
   "varInspector_section_display": "block",
   "window_display": false
  }
 },
 "nbformat": 4,
 "nbformat_minor": 5
}
